{
 "cells": [
  {
   "cell_type": "markdown",
   "id": "c164d69c",
   "metadata": {},
   "source": [
    "1"
   ]
  },
  {
   "cell_type": "code",
   "execution_count": 35,
   "id": "695ae5a9",
   "metadata": {},
   "outputs": [
    {
     "name": "stdout",
     "output_type": "stream",
     "text": [
      "Device Operation\n",
      "Printer Operation\n",
      "Scanner Operation\n"
     ]
    }
   ],
   "source": [
    "class Device():\n",
    "    def operate(self):\n",
    "        print(\"Device Operation\")\n",
    "\n",
    "class Printer(Device):\n",
    "    def operate(self):\n",
    "        print(\"Printer Operation\")\n",
    "\n",
    "class Scanner(Device):\n",
    "    def operate(self):\n",
    "        print(\"Scanner Operation\")\n",
    "\n",
    "\n",
    "d1=Device()\n",
    "p1=Printer()\n",
    "s1=Scanner()\n",
    "for x in [d1,p1,s1]:\n",
    "    x.operate()\n"
   ]
  },
  {
   "cell_type": "markdown",
   "id": "0c2282e6",
   "metadata": {},
   "source": [
    "2"
   ]
  },
  {
   "cell_type": "code",
   "execution_count": 17,
   "id": "cf9b837f",
   "metadata": {},
   "outputs": [
    {
     "name": "stdout",
     "output_type": "stream",
     "text": [
      "CreditCardPayment\n",
      "PaypalPayment\n"
     ]
    }
   ],
   "source": [
    "from abc import ABC,abstractmethod\n",
    "class Payment(ABC):\n",
    "    @abstractmethod\n",
    "    def process_payment(self):\n",
    "        pass\n",
    "\n",
    "class CreditCardPayment(Payment):\n",
    "    def process_payment(self):\n",
    "        print(\"CreditCardPayment\")\n",
    "\n",
    "class PayPalPayment(Payment):\n",
    "    def process_payment(self):\n",
    "        print(\"PaypalPayment\")    \n",
    "\n",
    "c1=CreditCardPayment()\n",
    "p1=PayPalPayment()\n",
    "c1.process_payment()\n",
    "p1.process_payment()\n"
   ]
  },
  {
   "cell_type": "markdown",
   "id": "b7a1c659",
   "metadata": {},
   "source": [
    "3"
   ]
  },
  {
   "cell_type": "code",
   "execution_count": 18,
   "id": "ae7b23fe",
   "metadata": {},
   "outputs": [
    {
     "name": "stdout",
     "output_type": "stream",
     "text": [
      "ali@gmail.com\n",
      "ali\n",
      "cdef@gmail.com\n",
      "abcdef\n"
     ]
    }
   ],
   "source": [
    "class UserProfile():\n",
    "    def __init__(self,passwd,em):\n",
    "        self.__password=passwd\n",
    "        self.__email=em\n",
    "\n",
    "    def changepassword(self,newpass):\n",
    "        self.__password=newpass\n",
    "\n",
    "    def changeemail(self,newem):\n",
    "        self.__email=newem\n",
    "\n",
    "    def getpassword(self):\n",
    "        print(self.__password)\n",
    "\n",
    "    def getemail(self):\n",
    "        print(self.__email)\n",
    "\n",
    "u=UserProfile(\"ali\",\"ali@gmail.com\")\n",
    "u.getemail()\n",
    "u.getpassword()\n",
    "u.changeemail(\"cdef@gmail.com\")\n",
    "u.changepassword(\"abcdef\")\n",
    "u.getemail()\n",
    "u.getpassword()\n"
   ]
  },
  {
   "cell_type": "markdown",
   "id": "e1704242",
   "metadata": {},
   "source": [
    "4"
   ]
  },
  {
   "cell_type": "code",
   "execution_count": null,
   "id": "6389d041",
   "metadata": {},
   "outputs": [],
   "source": [
    "class Engine():\n",
    "    def start():\n",
    "        pass\n",
    "\n",
    "class Car():\n",
    "    def __init__(self):\n",
    "        a=Engine()\n",
    "\n",
    "class Truck():\n",
    "    pass\n",
    "class vehicle(Truck):\n",
    "    pass  "
   ]
  },
  {
   "cell_type": "markdown",
   "id": "f6794139",
   "metadata": {},
   "source": [
    "5"
   ]
  },
  {
   "cell_type": "code",
   "execution_count": null,
   "id": "8db9ff43",
   "metadata": {},
   "outputs": [],
   "source": [
    "class TemperatureConverter():\n",
    "    @staticmethod\n",
    "    def CtoF():\n",
    "        print(\"celsius converted to farenheit\")\n",
    "    \n",
    "    @classmethod\n",
    "    def converter(self,reg):\n",
    "        print(\"Converter For\",self.reg)"
   ]
  },
  {
   "cell_type": "markdown",
   "id": "48f96fde",
   "metadata": {},
   "source": [
    "6"
   ]
  },
  {
   "cell_type": "code",
   "execution_count": null,
   "id": "720cd261",
   "metadata": {},
   "outputs": [],
   "source": [
    "class Circle():\n",
    "    def __init__(self,rad):\n",
    "        self.__radius=rad\n",
    "        self.area=(self.__radius)**2\n",
    "    @property\n",
    "    def getradius(self):\n",
    "        print(self.__radius)\n",
    "    def setradius(self,r):\n",
    "        self.__radius=r\n",
    "        self.area=self.__radius**2\n",
    "    "
   ]
  },
  {
   "cell_type": "markdown",
   "id": "7bd5beab",
   "metadata": {},
   "source": [
    "7"
   ]
  },
  {
   "cell_type": "code",
   "execution_count": null,
   "id": "bd508fae",
   "metadata": {},
   "outputs": [
    {
     "name": "stdout",
     "output_type": "stream",
     "text": [
      "3\n",
      "-1\n"
     ]
    }
   ],
   "source": [
    "class Vector():\n",
    "    def __init__(self,X,Y):\n",
    "        self.x=X\n",
    "        self.y=Y\n",
    "    \n",
    "    def __str__(self):\n",
    "        return self.x \n",
    "    def __sub__(self):\n",
    "        print(self.x-self.y)\n",
    "    def __add__(self):\n",
    "        print(self.x+self.y)\n",
    "\n",
    "v1=Vector(1,2)\n",
    "v1.__add__()\n",
    "v1.__sub__()"
   ]
  },
  {
   "cell_type": "markdown",
   "id": "fd3b3c02",
   "metadata": {},
   "source": [
    "8"
   ]
  },
  {
   "cell_type": "code",
   "execution_count": 41,
   "id": "da4b55d0",
   "metadata": {},
   "outputs": [
    {
     "name": "stdout",
     "output_type": "stream",
     "text": [
      "NegativeBalanceError\n"
     ]
    }
   ],
   "source": [
    "class Wallet():\n",
    "    def __init__(self,b):\n",
    "        self.balance=b\n",
    "    def withdraw(self,am):\n",
    "        try:\n",
    "            if(self.balance<0):\n",
    "                self.balance=0\n",
    "                print(am/self.balance)\n",
    "        except:\n",
    "            print(\"NegativeBalanceError\")\n",
    "\n",
    "w=Wallet(-1)\n",
    "w.withdraw(100)\n"
   ]
  },
  {
   "cell_type": "markdown",
   "id": "1fc3c272",
   "metadata": {},
   "source": [
    "9"
   ]
  },
  {
   "cell_type": "code",
   "execution_count": 49,
   "id": "a78850f4",
   "metadata": {},
   "outputs": [
    {
     "name": "stdout",
     "output_type": "stream",
     "text": [
      "logger abcd\n",
      "logger Secure action done\n",
      "logger aa\n",
      "(<class '__main__.SecureSystem'>, <class '__main__.logger'>, <class '__main__.Authenticator'>, <class 'object'>)\n"
     ]
    }
   ],
   "source": [
    "class logger():\n",
    "    def log(self,m):\n",
    "        print(\"logger\",m)\n",
    "class Authenticator():\n",
    "    def log(self,m):\n",
    "        print(\"Authenticator\",m)\n",
    "class SecureSystem(logger,Authenticator):\n",
    "    def secureaction(self):\n",
    "        self.log(\"Secure action done\")\n",
    "\n",
    "c1=logger()\n",
    "c1.log(\"abcd\")\n",
    "s1=SecureSystem()\n",
    "s1.secureaction()\n",
    "s1.log(\"aa\")\n",
    "print(SecureSystem.__mro__)"
   ]
  },
  {
   "cell_type": "markdown",
   "id": "ed9c3ba3",
   "metadata": {},
   "source": [
    "10"
   ]
  },
  {
   "cell_type": "code",
   "execution_count": 55,
   "id": "9cb55780",
   "metadata": {},
   "outputs": [
    {
     "name": "stdout",
     "output_type": "stream",
     "text": [
      "Creating a new AppConfig instance.\n",
      "Initializing AppConfig with settings.\n",
      "{'debug': True, 'version': '1.0'}\n",
      "{'debug': True, 'version': '1.0'}\n",
      "True\n"
     ]
    }
   ],
   "source": [
    "class AppConfig:\n",
    "    _instance = None\n",
    "\n",
    "    def __new__(cls, *args, **kwargs):\n",
    "        if cls._instance is None:\n",
    "            print(\"Creating a new AppConfig instance.\")\n",
    "            cls._instance = super(AppConfig, cls).__new__(cls)\n",
    "            cls._instance._initialized = False\n",
    "        return cls._instance\n",
    "\n",
    "    def __init__(self, settings=None):\n",
    "        if not self._initialized:\n",
    "            print(\"Initializing AppConfig with settings.\")\n",
    "            self.settings = settings or {}\n",
    "            self._initialized = True\n",
    "\n",
    "config1 = AppConfig({\"debug\": True, \"version\": \"1.0\"})\n",
    "print(config1.settings)\n",
    "\n",
    "config2 = AppConfig({\"debug\": False})\n",
    "print(config2.settings)\n",
    "\n",
    "print(config1 is config2)  # Should print True\n"
   ]
  }
 ],
 "metadata": {
  "kernelspec": {
   "display_name": "Python 3",
   "language": "python",
   "name": "python3"
  },
  "language_info": {
   "codemirror_mode": {
    "name": "ipython",
    "version": 3
   },
   "file_extension": ".py",
   "mimetype": "text/x-python",
   "name": "python",
   "nbconvert_exporter": "python",
   "pygments_lexer": "ipython3",
   "version": "3.12.3"
  }
 },
 "nbformat": 4,
 "nbformat_minor": 5
}
